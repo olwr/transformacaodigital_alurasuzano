{
 "cells": [
  {
   "cell_type": "markdown",
   "metadata": {},
   "source": [
    "# python3: começando com a linguagem\n",
    "\n",
    "[python documentação](https://docs.python.org/3/)"
   ]
  },
  {
   "cell_type": "markdown",
   "metadata": {},
   "source": [
    "## primeiros passos\n",
    "\n",
    "### sintaxe"
   ]
  },
  {
   "cell_type": "markdown",
   "metadata": {},
   "source": [
    "em python, variáveis são criadas quando recebem um valor. não há commandos que declaram a variável"
   ]
  },
  {
   "cell_type": "code",
   "execution_count": 88,
   "metadata": {},
   "outputs": [],
   "source": [
    "linguagem = \"python\"\n",
    "versao = 3"
   ]
  },
  {
   "cell_type": "markdown",
   "metadata": {},
   "source": [
    "para documentação/anotações dentro do código, python tem a capacidade de comentários in code. comentários começam com a #, vai então renderizar o resto da linha como um comentário"
   ]
  },
  {
   "cell_type": "code",
   "execution_count": 26,
   "metadata": {},
   "outputs": [
    {
     "name": "stdout",
     "output_type": "stream",
     "text": [
      "hello, word!\n"
     ]
    }
   ],
   "source": [
    "# isso é um comentário\n",
    "print(\"hello, word!\")"
   ]
  },
  {
   "cell_type": "markdown",
   "metadata": {},
   "source": [
    "enquanto em outras linguagens a indentação é somente feita por boa prática e legibilidade, em python ela é muito importante, pois indica blocos de código, como se eles fossem funções"
   ]
  },
  {
   "cell_type": "code",
   "execution_count": 23,
   "metadata": {},
   "outputs": [
    {
     "name": "stdout",
     "output_type": "stream",
     "text": [
      "é maior\n"
     ]
    }
   ],
   "source": [
    "if 5 > 2:\n",
    "    print(\"é maior\")"
   ]
  },
  {
   "cell_type": "markdown",
   "metadata": {},
   "source": [
    "ele vai retornar erro se a indentação for pulada"
   ]
  },
  {
   "cell_type": "code",
   "execution_count": 24,
   "metadata": {},
   "outputs": [
    {
     "ename": "IndentationError",
     "evalue": "expected an indented block after 'if' statement on line 1 (592709678.py, line 2)",
     "output_type": "error",
     "traceback": [
      "\u001b[1;36m  Input \u001b[1;32mIn [24]\u001b[1;36m\u001b[0m\n\u001b[1;33m    print(\"é maior\")\u001b[0m\n\u001b[1;37m    ^\u001b[0m\n\u001b[1;31mIndentationError\u001b[0m\u001b[1;31m:\u001b[0m expected an indented block after 'if' statement on line 1\n"
     ]
    }
   ],
   "source": [
    "if 5 > 2:\n",
    "print(\"é maior\") # indentação errada, retorna um erro"
   ]
  },
  {
   "cell_type": "markdown",
   "metadata": {},
   "source": [
    "o tamanho de espaço é escolha do programador, o mais usado é 4 (basicamente tab), mas deve pelo menos ter 1"
   ]
  },
  {
   "cell_type": "code",
   "execution_count": 25,
   "metadata": {},
   "outputs": [
    {
     "name": "stdout",
     "output_type": "stream",
     "text": [
      "é maior\n",
      "é maior\n"
     ]
    }
   ],
   "source": [
    "if 5 > 2:\n",
    " print(\"é maior\") # indentação correta\n",
    "if 5 > 2:\n",
    "        print(\"é maior\") # também está correto"
   ]
  },
  {
   "cell_type": "markdown",
   "metadata": {},
   "source": [
    "### função `print()` e variáveis\n",
    "\n",
    "basta passar a mensagem como parâmetro para a função, que a mesma será impressa na tela/terminal. pode receber `sep=\" \"` para definir qual será a separação entre parâmetros e `end=\"\"` para definir o que vem ao final da função"
   ]
  },
  {
   "cell_type": "code",
   "execution_count": 8,
   "metadata": {},
   "outputs": [
    {
     "name": "stdout",
     "output_type": "stream",
     "text": [
      "qualé otário\n",
      "pyyyyy-thon/fim"
     ]
    }
   ],
   "source": [
    "print(\"qualé otário\")\n",
    "\n",
    "print(\"pyyyyy\", \"thon\", sep=\"-\", end=\"/fim\")"
   ]
  },
  {
   "cell_type": "markdown",
   "metadata": {},
   "source": [
    "usando o parâmetro sep=\"_\" para definir um _ entre cada valor, definindo através do end para imprimir uma exclamação (!), seguida pelo \\n (que é um caractere especial, que faz com que o novo prompt comece em uma nova linha). o código e resultados são:"
   ]
  },
  {
   "cell_type": "code",
   "execution_count": 8,
   "metadata": {},
   "outputs": [
    {
     "name": "stdout",
     "output_type": "stream",
     "text": [
      "Python_é_fantástico!\n"
     ]
    }
   ],
   "source": [
    "subst = \"Python\"\n",
    "verbo = \"é\"\n",
    "adjetivo = \"fantástico\"\n",
    "print(subst, verbo, adjetivo, sep=\"_\", end=\"!\\n\")"
   ]
  },
  {
   "cell_type": "markdown",
   "metadata": {},
   "source": [
    "exemplo com data ↓"
   ]
  },
  {
   "cell_type": "code",
   "execution_count": 9,
   "metadata": {},
   "outputs": [
    {
     "name": "stdout",
     "output_type": "stream",
     "text": [
      "22/9/2012\n"
     ]
    }
   ],
   "source": [
    "dia = 22\n",
    "mes = 9\n",
    "ano = 2012\n",
    "\n",
    "print(dia, mes, ano, sep=\"/\")"
   ]
  },
  {
   "cell_type": "markdown",
   "metadata": {},
   "source": [
    "### formatação de string\n",
    "\n",
    "o método `format()` formata os valores especificados (que recebe como parâmetro) e os insere dentro do placeholder (que seria as {chaves} ) da string\n",
    "\n",
    "precisa sempre ter um ou mais parâmetros, que podem ser uma lista de valores separados por vírgula, uma lista keyword = valor, ou uma combinação de ambos  "
   ]
  },
  {
   "cell_type": "markdown",
   "metadata": {},
   "source": [
    "sintaxe → `\"string\".format(arg, kword...)`"
   ]
  },
  {
   "cell_type": "markdown",
   "metadata": {},
   "source": [
    "\n",
    "dentro da string, devemos utilizar as chaves { } para definir onde o valor da variável deve ser inserido. e logo após a declaração da string, chamamos a função `format`, que recebe as variáveis/parâmetros, essas serão por padrão inseridas na ordem escritas se não for declarado o contrário"
   ]
  },
  {
   "cell_type": "code",
   "execution_count": 10,
   "metadata": {},
   "outputs": [
    {
     "data": {
      "text/plain": [
       "'Em 2017 o Carnaval aconteceu em fevereiro do dia 24 até o dia 28'"
      ]
     },
     "execution_count": 10,
     "metadata": {},
     "output_type": "execute_result"
    }
   ],
   "source": [
    "dia_ini = 24\n",
    "dia_fim = 28\n",
    "mes = \"fevereiro\"\n",
    "ano = 2017\n",
    "\n",
    "\"Em {} o Carnaval aconteceu em {} do dia {} até o dia {}\".format(ano, mes, dia_ini, dia_fim)"
   ]
  },
  {
   "cell_type": "markdown",
   "metadata": {},
   "source": [
    "placeholders podem receber índices nomeados `{keyword}`, índices numéricos `{0}`, ou até podem ser vazies `{}`"
   ]
  },
  {
   "cell_type": "code",
   "execution_count": 2,
   "metadata": {},
   "outputs": [
    {
     "data": {
      "text/plain": [
       "'Tentativa 3 de 10'"
      ]
     },
     "execution_count": 2,
     "metadata": {},
     "output_type": "execute_result"
    }
   ],
   "source": [
    "\"Tentativa {1} de {0}\".format(10, 3)"
   ]
  },
  {
   "cell_type": "markdown",
   "metadata": {},
   "source": [
    "exemplos de formatação ↓"
   ]
  },
  {
   "cell_type": "code",
   "execution_count": 11,
   "metadata": {},
   "outputs": [
    {
     "data": {
      "text/plain": [
       "'primeiro, vós deve contar até 15'"
      ]
     },
     "execution_count": 11,
     "metadata": {},
     "output_type": "execute_result"
    }
   ],
   "source": [
    "\"primeiro, vós deve contar até {0}\".format(15, 25)  # referência a posição do primeiro argumento"
   ]
  },
  {
   "cell_type": "code",
   "execution_count": 13,
   "metadata": {},
   "outputs": [
    {
     "data": {
      "text/plain": [
       "'traga-me uma pá'"
      ]
     },
     "execution_count": 13,
     "metadata": {},
     "output_type": "execute_result"
    }
   ],
   "source": [
    "\"traga-me uma {}\".format(\"pá\")  # implicitamente referência a posição do primeiro argumento"
   ]
  },
  {
   "cell_type": "code",
   "execution_count": 14,
   "metadata": {},
   "outputs": [
    {
     "data": {
      "text/plain": [
       "'de 8 a 80'"
      ]
     },
     "execution_count": 14,
     "metadata": {},
     "output_type": "execute_result"
    }
   ],
   "source": [
    "\"de {} a {}\".format(8,\"80\") # o mesmo que \"de {0} a {1}\""
   ]
  },
  {
   "cell_type": "code",
   "execution_count": 27,
   "metadata": {},
   "outputs": [
    {
     "data": {
      "text/plain": [
       "'meu herói favorito é o hawkeye'"
      ]
     },
     "execution_count": 27,
     "metadata": {},
     "output_type": "execute_result"
    }
   ],
   "source": [
    "\"meu herói favorito é o {heroi}\".format(heroi = \"hawkeye\") # referência o argumento keyword \"heroi\""
   ]
  },
  {
   "cell_type": "code",
   "execution_count": 28,
   "metadata": {},
   "outputs": [
    {
     "ename": "AttributeError",
     "evalue": "'int' object has no attribute 'peso'",
     "output_type": "error",
     "traceback": [
      "\u001b[1;31m---------------------------------------------------------------------------\u001b[0m",
      "\u001b[1;31mAttributeError\u001b[0m                            Traceback (most recent call last)",
      "\u001b[1;32mc:\\Users\\OLIWER\\Documents\\suzano_alura materiais\\suzano_alura pratica\\semana_10_11_12\\anotacoes.ipynb Cell 30\u001b[0m in \u001b[0;36m<cell line: 1>\u001b[1;34m()\u001b[0m\n\u001b[1;32m----> <a href='vscode-notebook-cell:/c%3A/Users/OLIWER/Documents/suzano_alura%20materiais/suzano_alura%20pratica/semana_10_11_12/anotacoes.ipynb#Y211sZmlsZQ%3D%3D?line=0'>1</a>\u001b[0m \u001b[39m'\u001b[39;49m\u001b[39mpeso em kilos \u001b[39;49m\u001b[39m{0.peso}\u001b[39;49;00m\u001b[39m'\u001b[39;49m\u001b[39m.\u001b[39;49mformat(\u001b[39m70\u001b[39;49m)\n",
      "\u001b[1;31mAttributeError\u001b[0m: 'int' object has no attribute 'peso'"
     ]
    }
   ],
   "source": [
    "'peso em kilos {0.peso}'.format(70) # \"peso\" é o atributo do argumento de primeira posição !!perguntar sobre no chat alura"
   ]
  },
  {
   "cell_type": "code",
   "execution_count": 31,
   "metadata": {},
   "outputs": [
    {
     "data": {
      "text/plain": [
       "'unidades destruídas por: n7_commander'"
      ]
     },
     "execution_count": 31,
     "metadata": {},
     "output_type": "execute_result"
    }
   ],
   "source": [
    "\"unidades destruídas por: {jogadores[0]}\".format(jogadores = [\"n7_commander\", \"hidden_one\", \"raider_of_tombs\"]) # primeiro elemento do argumento keyword \"jogadores\""
   ]
  },
  {
   "cell_type": "markdown",
   "metadata": {},
   "source": [
    "dentro do placeholder pode-se adicionar tipos de formatação, que mudam como os valores inseridos vão ser formatados dentro da string\n",
    "\n",
    "tipos de formatação → `:>` `:<` `:^` `:=` `:+` `:-` `: ` `:,` `:_` `:b` `:c` `:d` `:e` `:E` `:f` `:F` `:g` `:G` `:o` `:x` `:X` `:n` `:%`"
   ]
  },
  {
   "cell_type": "code",
   "execution_count": 34,
   "metadata": {},
   "outputs": [
    {
     "name": "stdout",
     "output_type": "stream",
     "text": [
      "nós temos 49       galinhas.\n",
      "nós temos       49 galinhas.\n",
      "nós temos    49    galinhas.\n"
     ]
    }
   ],
   "source": [
    "txt = \"nós temos {:<8} galinhas.\" # alinha o resultado a esquerda (de acordo com o espaço vago)\n",
    "print(txt.format(49))\n",
    "\n",
    "txt = \"nós temos {:>8} galinhas.\" # alinha o resultado a direita (de acordo com o espaço vago)\n",
    "print(txt.format(49))\n",
    "\n",
    "txt = \"nós temos {:^8} galinhas.\" # alinha o resultado ao centro (de acordo com o espaço vago)\n",
    "print(txt.format(49))\n"
   ]
  },
  {
   "cell_type": "code",
   "execution_count": 41,
   "metadata": {},
   "outputs": [
    {
     "name": "stdout",
     "output_type": "stream",
     "text": [
      "a temperatura é -      5 graus celsius.\n",
      "a temperatura está entre -3 e +7 graus celsius.\n",
      "a temperatura está entre -3 e 7 graus celsius.\n",
      "a temperatura está entre -3 e  7 graus celsius.\n"
     ]
    }
   ],
   "source": [
    "txt = \"a temperatura é {:=8} graus celsius.\" # posiciona o sinal para a posição mais a esquerda possível\n",
    "print(txt.format(-5))\n",
    "\n",
    "txt = \"a temperatura está entre {:+} e {:+} graus celsius.\" # usa o sinal \"+\" para indicar se os valores são positivos ou negativos\n",
    "print(txt.format(-3, 7))\n",
    "\n",
    "txt = \"a temperatura está entre {:-} e {:-} graus celsius.\" # usa o sinal \"-\" para indicar valores negativos (positivos não recebem o sinal)\n",
    "print(txt.format(-3, 7))\n",
    "\n",
    "txt = \"a temperatura está entre {: } e {: } graus celsius.\" # adiciona um espaço antes dos números positivos e um sinal \"-\" antes dos negativos\n",
    "print(txt.format(-3, 7))"
   ]
  },
  {
   "cell_type": "code",
   "execution_count": 47,
   "metadata": {},
   "outputs": [
    {
     "name": "stdout",
     "output_type": "stream",
     "text": [
      "o universo tem 13,800,000,000 anos.\n",
      "o universo tem 13_800_000_000 anos.\n"
     ]
    }
   ],
   "source": [
    "txt = \"o universo tem {:,} anos.\" # adiciona vírgula como separador de casas decimais\n",
    "print(txt.format(13800000000))\n",
    "\n",
    "txt = \"o universo tem {:_} anos.\" # adiciona \"_\" como separador de casas decimais\n",
    "print(txt.format(13800000000))"
   ]
  },
  {
   "cell_type": "code",
   "execution_count": 82,
   "metadata": {},
   "outputs": [
    {
     "name": "stdout",
     "output_type": "stream",
     "text": [
      "a versão binária de 5 é 101\n",
      "nós temos 5 chances de ganhar\n",
      "nós temos 5.000000e+00 chances de ganhar\n",
      "nós temos 50.000000% de chances de ganhar\n",
      "nós temos 50% de chances de ganhar\n"
     ]
    }
   ],
   "source": [
    "txt = \"a versão binária de {0} é {0:b}\" # converte o valor em seu correspondente binário\n",
    "print(txt.format(5))\n",
    "\n",
    "txt = \"nós temos {0:d} chances de ganhar\" # converte o valor em seu correspondente decimal\n",
    "print(txt.format(0b101))\n",
    "\n",
    "txt = \"nós temos {0:e} chances de ganhar\" # converte o valor em formato de notação científica\n",
    "print(txt.format(5))\n",
    "\n",
    "txt = \"nós temos {:%} de chances de ganhar\" # converte o valor em formato de porcentagem (com decimais)\n",
    "print(txt.format(0.5))\n",
    "\n",
    "txt = \"nós temos {:.0%} de chances de ganhar\" # converte o valor em formato de porcentagem (sem decimais)\n",
    "print(txt.format(0.5))"
   ]
  },
  {
   "cell_type": "code",
   "execution_count": 76,
   "metadata": {},
   "outputs": [
    {
     "name": "stdout",
     "output_type": "stream",
     "text": [
      "o preço é 45.000000 reais.\n",
      "o preço é   45.00 reais.\n",
      "o preço é  450.00 reais.\n"
     ]
    }
   ],
   "source": [
    "txt = \"o preço é {:f} reais.\" # converto o valor em um número com \"ponto fixo\" (casas decimais), sendo o padrão de 6 casas\n",
    "print(txt.format(45))\n",
    "\n",
    "txt = \"o preço é {:7.2f} reais.\" # padrão de 6 casas decimais\n",
    "print(txt.format(45))\n",
    "\n",
    "txt = \"o preço é {:7.2f} reais.\" # define espaçamento dependente do número de caracteres \n",
    "print(txt.format(450))"
   ]
  },
  {
   "cell_type": "code",
   "execution_count": 83,
   "metadata": {},
   "outputs": [
    {
     "name": "stdout",
     "output_type": "stream",
     "text": [
      "a versão hexadecimal de 255 é ff\n",
      "a versão hexadecimal de 255 é FF\n"
     ]
    }
   ],
   "source": [
    "txt = \"a versão hexadecimal de {0} é {0:x}\" # converte o valor em formato hex (minúsculas)\n",
    "print(txt.format(255))\n",
    "\n",
    "txt = \"a versão hexadecimal de {0} é {0:X}\" # converte o valor em formato hex (maiúsculas)\n",
    "print(txt.format(255))\n"
   ]
  },
  {
   "cell_type": "markdown",
   "metadata": {},
   "source": [
    "f-strings ou formatted string literals\n",
    "\n",
    "quando colocamos a letra f antes das aspas, informamos que estamos utilizando uma f-string. dessa forma o python consegue, em tempo de execução, captar a expressão que está entre chaves ({ }) e avaliá-la\n",
    "\n",
    "além de variáveis, pode-se passar também funções e métodos"
   ]
  },
  {
   "cell_type": "code",
   "execution_count": 85,
   "metadata": {},
   "outputs": [
    {
     "name": "stdout",
     "output_type": "stream",
     "text": [
      "Meu sobrenome é Matias\n",
      "Meu sobrenome é matias\n"
     ]
    }
   ],
   "source": [
    "sobrenome = 'Matias'\n",
    "print(f'Meu sobrenome é {sobrenome}')\n",
    "\n",
    "sobrenome = 'Matias'\n",
    "print(f'Meu sobrenome é {sobrenome.lower()}')"
   ]
  },
  {
   "cell_type": "markdown",
   "metadata": {},
   "source": [
    "### tipagem do python\n",
    "\n",
    "o python faz parte do grupo de linguagens dinâmicas. não precisa que seu tipo de variável seja especificado para impressão ou passagem de valores, o próprio valor passa o tipo da variável, e esse mesmo muda dinamicamente, em linha com as alterações feitas na variável"
   ]
  },
  {
   "cell_type": "markdown",
   "metadata": {},
   "source": [
    "não há declaração de variáveis estáticas em Python, como em linguagens como C, Java ou C#. nessas linguagens, indicamos o tipo e o nome das variáveis e ela já passa a existir. como exemplo:"
   ]
  },
  {
   "cell_type": "code",
   "execution_count": 21,
   "metadata": {},
   "outputs": [
    {
     "ename": "SyntaxError",
     "evalue": "invalid syntax (1200117385.py, line 1)",
     "output_type": "error",
     "traceback": [
      "\u001b[1;36m  Input \u001b[1;32mIn [21]\u001b[1;36m\u001b[0m\n\u001b[1;33m    int nomes # vai dar erro\u001b[0m\n\u001b[1;37m        ^\u001b[0m\n\u001b[1;31mSyntaxError\u001b[0m\u001b[1;31m:\u001b[0m invalid syntax\n"
     ]
    }
   ],
   "source": [
    "int nomes # vai dar erro"
   ]
  },
  {
   "cell_type": "markdown",
   "metadata": {},
   "source": [
    "uma variável só passa a existir quando atribuída um valor. isso faz todo sentido, já que não temos uma declaração explícita do tipo, como na linguagem Java ou C#. o interpretador do python não tem como assumir um tipo sem um valor ser definido antes"
   ]
  },
  {
   "cell_type": "code",
   "execution_count": 35,
   "metadata": {},
   "outputs": [
    {
     "data": {
      "text/plain": [
       "str"
      ]
     },
     "execution_count": 35,
     "metadata": {},
     "output_type": "execute_result"
    }
   ],
   "source": [
    "nome = \"oliwer\"\n",
    "type(nome)"
   ]
  },
  {
   "cell_type": "code",
   "execution_count": 36,
   "metadata": {},
   "outputs": [
    {
     "data": {
      "text/plain": [
       "int"
      ]
     },
     "execution_count": 36,
     "metadata": {},
     "output_type": "execute_result"
    }
   ],
   "source": [
    "nome = 1964\n",
    "type(nome)\n",
    "# o tipo muda, pois o valor mudou"
   ]
  },
  {
   "cell_type": "markdown",
   "metadata": {},
   "source": [
    "tipos de valores"
   ]
  },
  {
   "cell_type": "code",
   "execution_count": 11,
   "metadata": {},
   "outputs": [
    {
     "data": {
      "text/plain": [
       "str"
      ]
     },
     "execution_count": 11,
     "metadata": {},
     "output_type": "execute_result"
    }
   ],
   "source": [
    "tipo_string = \"oliwer\"\n",
    "type(tipo_string)"
   ]
  },
  {
   "cell_type": "code",
   "execution_count": 12,
   "metadata": {},
   "outputs": [
    {
     "data": {
      "text/plain": [
       "int"
      ]
     },
     "execution_count": 12,
     "metadata": {},
     "output_type": "execute_result"
    }
   ],
   "source": [
    "tipo_integer = 20\n",
    "type(tipo_integer)"
   ]
  },
  {
   "cell_type": "code",
   "execution_count": 13,
   "metadata": {},
   "outputs": [
    {
     "data": {
      "text/plain": [
       "float"
      ]
     },
     "execution_count": 13,
     "metadata": {},
     "output_type": "execute_result"
    }
   ],
   "source": [
    "tipo_float = 14.03\n",
    "type(tipo_float)"
   ]
  },
  {
   "cell_type": "code",
   "execution_count": 14,
   "metadata": {},
   "outputs": [
    {
     "data": {
      "text/plain": [
       "list"
      ]
     },
     "execution_count": 14,
     "metadata": {},
     "output_type": "execute_result"
    }
   ],
   "source": [
    "tipo_list = [\"lily\", \"b\", \"concha\", 3] \n",
    "type(tipo_list)"
   ]
  },
  {
   "cell_type": "code",
   "execution_count": 15,
   "metadata": {},
   "outputs": [
    {
     "data": {
      "text/plain": [
       "bool"
      ]
     },
     "execution_count": 15,
     "metadata": {},
     "output_type": "execute_result"
    }
   ],
   "source": [
    "tipo_boolean = tipo_integer == tipo_float\n",
    "type(tipo_boolean)"
   ]
  },
  {
   "cell_type": "markdown",
   "metadata": {},
   "source": [
    "### recebimento de valores\n",
    "\n",
    "operadores de recebimento → `=` `+=` `-=` `*=` `/=` `%=` `//=` `**=` `&=` `|=` `^=` `>>=` `<<=`"
   ]
  },
  {
   "cell_type": "code",
   "execution_count": 17,
   "metadata": {},
   "outputs": [
    {
     "name": "stdout",
     "output_type": "stream",
     "text": [
      "5\n"
     ]
    }
   ],
   "source": [
    "a = 5 # recebe o valor\n",
    "print(a)"
   ]
  },
  {
   "cell_type": "code",
   "execution_count": 18,
   "metadata": {},
   "outputs": [
    {
     "name": "stdout",
     "output_type": "stream",
     "text": [
      "8\n"
     ]
    }
   ],
   "source": [
    "a += 3 # a = a + 3, incrementa o valor\n",
    "print(a)"
   ]
  },
  {
   "cell_type": "code",
   "execution_count": 19,
   "metadata": {},
   "outputs": [
    {
     "name": "stdout",
     "output_type": "stream",
     "text": [
      "5\n"
     ]
    }
   ],
   "source": [
    "a -= 3 # a = a - 3, subtrai do valor\n",
    "print(a)"
   ]
  },
  {
   "cell_type": "code",
   "execution_count": 20,
   "metadata": {},
   "outputs": [
    {
     "name": "stdout",
     "output_type": "stream",
     "text": [
      "15\n"
     ]
    }
   ],
   "source": [
    "a *= 3 # a = a * 3, multiplica o valor\n",
    "print(a)"
   ]
  },
  {
   "cell_type": "code",
   "execution_count": 21,
   "metadata": {},
   "outputs": [
    {
     "name": "stdout",
     "output_type": "stream",
     "text": [
      "5.0\n"
     ]
    }
   ],
   "source": [
    "a /= 3 # a = a / 3, divide do valor\n",
    "print(a)"
   ]
  },
  {
   "cell_type": "code",
   "execution_count": 22,
   "metadata": {},
   "outputs": [
    {
     "name": "stdout",
     "output_type": "stream",
     "text": [
      "2.0\n"
     ]
    }
   ],
   "source": [
    "a %= 3 # a = a % 3, modulus do valor\n",
    "print(a)"
   ]
  },
  {
   "cell_type": "code",
   "execution_count": 27,
   "metadata": {},
   "outputs": [
    {
     "name": "stdout",
     "output_type": "stream",
     "text": [
      "0.0\n"
     ]
    }
   ],
   "source": [
    "a //= 3 # a = a // 3, floor do valor\n",
    "print(a)"
   ]
  },
  {
   "cell_type": "code",
   "execution_count": 28,
   "metadata": {},
   "outputs": [
    {
     "name": "stdout",
     "output_type": "stream",
     "text": [
      "0.0\n"
     ]
    }
   ],
   "source": [
    "a **= 3 # a = a ** 3, exponenciação do valor\n",
    "print(a)"
   ]
  },
  {
   "cell_type": "markdown",
   "metadata": {},
   "source": [
    "### operações aritméticas\n",
    "\n",
    "operadores aritméticos → `+` `-` `*` `/` `%` `**` `//`"
   ]
  },
  {
   "cell_type": "code",
   "execution_count": 2,
   "metadata": {},
   "outputs": [
    {
     "name": "stdout",
     "output_type": "stream",
     "text": [
      "36\n",
      "-6\n",
      "315\n",
      "1.4\n",
      "15\n",
      "4987885095119476318359375\n",
      "0\n"
     ]
    }
   ],
   "source": [
    "x = 15\n",
    "y = 21\n",
    "\n",
    "adicao = x + y\n",
    "print(adicao)\n",
    "\n",
    "subtracao = x - y\n",
    "print(subtracao)\n",
    "\n",
    "multiplicacao = y * x\n",
    "print(multiplicacao)\n",
    "\n",
    "divisao = y / x # também chamado de float division, pois sempre retorna os valores tipo float\n",
    "print(divisao)\n",
    "\n",
    "modulus = x % y\n",
    "print(modulus)\n",
    "\n",
    "exponenciacao = x ** y\n",
    "print(exponenciacao)\n",
    "\n",
    "divisao_floor = x // y # floor division ou integer division, sempre retorna os valores tipo int\n",
    "print(divisao_floor)"
   ]
  },
  {
   "cell_type": "markdown",
   "metadata": {},
   "source": [
    "modulus → resto de uma divisão \n",
    "\n",
    "floor division → é o maior inteiro que seja menor ou igual ao número real (quociente da divisão)"
   ]
  },
  {
   "cell_type": "code",
   "execution_count": 3,
   "metadata": {},
   "outputs": [
    {
     "name": "stdout",
     "output_type": "stream",
     "text": [
      "25.25\n",
      "25\n",
      "1\n"
     ]
    }
   ],
   "source": [
    "norm_div = 101 / 4 # 25 com resto 1\n",
    "print(norm_div)\n",
    "\n",
    "floor = 101 // 4 # 25\n",
    "print(floor)\n",
    "\n",
    "mod = 101 % 4 # 1\n",
    "print(mod)"
   ]
  },
  {
   "cell_type": "markdown",
   "metadata": {},
   "source": [
    "ambos satisfazem essa equação ↓"
   ]
  },
  {
   "cell_type": "code",
   "execution_count": 7,
   "metadata": {},
   "outputs": [
    {
     "name": "stdout",
     "output_type": "stream",
     "text": [
      "True\n"
     ]
    }
   ],
   "source": [
    "n = 101 # numerador\n",
    "d = 4 # denominador\n",
    "\n",
    "equacao = n == d * (n // d) + (n % d)\n",
    "print(equacao)"
   ]
  },
  {
   "cell_type": "markdown",
   "metadata": {},
   "source": [
    "### particularidades dos negativos\n",
    "\n",
    "floor em números negativos → retorna o contrário, número menor inteiro menor ou igual ao real"
   ]
  },
  {
   "cell_type": "code",
   "execution_count": 14,
   "metadata": {},
   "outputs": [
    {
     "name": "stdout",
     "output_type": "stream",
     "text": [
      "3\n",
      "3\n",
      "-4\n",
      "-4\n"
     ]
    }
   ],
   "source": [
    "print(10//3)\n",
    "print(-10//-3)\n",
    "\n",
    "print(-10//3)\n",
    "print(10//-3)"
   ]
  },
  {
   "cell_type": "markdown",
   "metadata": {},
   "source": [
    "modulus com números negativos → só retorna o resto corretamente se ambos n e d forem positivos"
   ]
  },
  {
   "cell_type": "code",
   "execution_count": 15,
   "metadata": {},
   "outputs": [
    {
     "name": "stdout",
     "output_type": "stream",
     "text": [
      "1\n",
      "-1\n",
      "2\n",
      "-2\n"
     ]
    }
   ],
   "source": [
    "print(10%3)\n",
    "print(-10%-3)\n",
    "\n",
    "print(-10%3)\n",
    "print(10%-3)"
   ]
  },
  {
   "cell_type": "markdown",
   "metadata": {},
   "source": [
    "### snake_case\n",
    "\n",
    "o python utiliza por convenção o padrão snake_case para nomes de variáveis (ou identificadores)"
   ]
  },
  {
   "cell_type": "code",
   "execution_count": null,
   "metadata": {},
   "outputs": [],
   "source": [
    "idade_esposa = 20\n",
    "perfil_vip = 'Flávio Almeida'\n",
    "recibos_em_atraso = 30"
   ]
  },
  {
   "cell_type": "markdown",
   "metadata": {},
   "source": [
    "## entrada do usuário"
   ]
  },
  {
   "cell_type": "code",
   "execution_count": 3,
   "metadata": {},
   "outputs": [
    {
     "name": "stdout",
     "output_type": "stream",
     "text": [
      "20\n"
     ]
    },
    {
     "data": {
      "text/plain": [
       "str"
      ]
     },
     "execution_count": 3,
     "metadata": {},
     "output_type": "execute_result"
    }
   ],
   "source": [
    "idade = input(\"digite sua idade: \") # prompt que pega e recebe informações do usuário\n",
    "print(idade)\n",
    "type(idade)"
   ]
  },
  {
   "cell_type": "markdown",
   "metadata": {},
   "source": [
    "## testando valores\n",
    "\n",
    "### comparando variáveis"
   ]
  },
  {
   "cell_type": "markdown",
   "metadata": {},
   "source": [
    "operadores comparativos → `==` `>` `>=` `<` `<=` `!=` \n",
    "\n",
    "não importa o número digitado, a comparação com `==` envolvendo tipos diferentes sempre resultará em falso. a função input sempre retorna uma string, sendo então necessário uma conversão"
   ]
  },
  {
   "cell_type": "code",
   "execution_count": 8,
   "metadata": {},
   "outputs": [
    {
     "name": "stdout",
     "output_type": "stream",
     "text": [
      "23\n",
      "False\n",
      "False\n",
      "False\n",
      "True\n",
      "True\n",
      "True\n"
     ]
    }
   ],
   "source": [
    "idade_amigo = input(\"digite outra idade: \")\n",
    "print(idade_amigo)\n",
    "\n",
    "comp_igualdade = idade == idade_amigo # igual em valor \n",
    "print(comp_igualdade)\n",
    "\n",
    "comp_maior = idade > idade_amigo # se é maior que\n",
    "print(comp_maior)\n",
    "\n",
    "comp_maior_igual = idade >= idade_amigo # se é maior ou igual a\n",
    "print(comp_maior_igual)\n",
    "\n",
    "comp_menor = idade < idade_amigo # se é menor que\n",
    "print(comp_menor)\n",
    "\n",
    "comp_menor_igual = idade <= idade_amigo # se é menor ou igual a\n",
    "print(comp_menor_igual)\n",
    "\n",
    "comp_diferente = idade != idade_amigo # se é diferente a\n",
    "print(comp_diferente)"
   ]
  },
  {
   "cell_type": "markdown",
   "metadata": {},
   "source": [
    "o python além de não comparar tipos diferentes, também não concatena tipos diferentes, estas sempre resultando em erros"
   ]
  },
  {
   "cell_type": "code",
   "execution_count": 5,
   "metadata": {},
   "outputs": [
    {
     "ename": "TypeError",
     "evalue": "unsupported operand type(s) for +: 'int' and 'str'",
     "output_type": "error",
     "traceback": [
      "\u001b[1;31m---------------------------------------------------------------------------\u001b[0m",
      "\u001b[1;31mTypeError\u001b[0m                                 Traceback (most recent call last)",
      "\u001b[1;32mc:\\Users\\OLIWER\\Documents\\suzano_alura materiais\\suzano_alura pratica\\semana_10_11_12\\anotacoes.ipynb Cell 27\u001b[0m in \u001b[0;36m<cell line: 5>\u001b[1;34m()\u001b[0m\n\u001b[0;32m      <a href='vscode-notebook-cell:/c%3A/Users/OLIWER/Documents/suzano_alura%20materiais/suzano_alura%20pratica/semana_10_11_12/anotacoes.ipynb#X35sZmlsZQ%3D%3D?line=0'>1</a>\u001b[0m idade1 \u001b[39m=\u001b[39m \u001b[39m10\u001b[39m\n\u001b[0;32m      <a href='vscode-notebook-cell:/c%3A/Users/OLIWER/Documents/suzano_alura%20materiais/suzano_alura%20pratica/semana_10_11_12/anotacoes.ipynb#X35sZmlsZQ%3D%3D?line=2'>3</a>\u001b[0m idade2 \u001b[39m=\u001b[39m \u001b[39m\"\u001b[39m\u001b[39m20\u001b[39m\u001b[39m\"\u001b[39m \u001b[39m# só funcionara com int()\u001b[39;00m\n\u001b[1;32m----> <a href='vscode-notebook-cell:/c%3A/Users/OLIWER/Documents/suzano_alura%20materiais/suzano_alura%20pratica/semana_10_11_12/anotacoes.ipynb#X35sZmlsZQ%3D%3D?line=4'>5</a>\u001b[0m \u001b[39mprint\u001b[39m(idade1 \u001b[39m+\u001b[39;49m idade2)\n",
      "\u001b[1;31mTypeError\u001b[0m: unsupported operand type(s) for +: 'int' and 'str'"
     ]
    }
   ],
   "source": [
    "idade1 = 10\n",
    "\n",
    "idade2 = \"20\" # só funcionara com int()\n",
    "\n",
    "print(idade1 + idade2)"
   ]
  },
  {
   "cell_type": "code",
   "execution_count": 29,
   "metadata": {},
   "outputs": [
    {
     "name": "stdout",
     "output_type": "stream",
     "text": [
      "10 20\n",
      "setenta e dois, 30\n"
     ]
    }
   ],
   "source": [
    "print(idade1, idade2)\n",
    "\n",
    "classe = \"setenta e dois\"\n",
    "cadeira = \"30\"\n",
    "\n",
    "print(classe, cadeira, sep=\", \")"
   ]
  },
  {
   "cell_type": "markdown",
   "metadata": {},
   "source": [
    "*syntax sugar* → apenas simplifica algo que seria trabalhoso, mas não muda a característica da linguagem"
   ]
  },
  {
   "cell_type": "code",
   "execution_count": 31,
   "metadata": {},
   "outputs": [
    {
     "name": "stdout",
     "output_type": "stream",
     "text": [
      "20202020202020202020\n"
     ]
    }
   ],
   "source": [
    "numero1 = 10\n",
    "numero2 = \"20\"\n",
    "produto = numero1 * numero2\n",
    "print(produto)"
   ]
  },
  {
   "cell_type": "markdown",
   "metadata": {},
   "source": [
    "### condicionais\n",
    "\n",
    "operadores condicionais → `if()`, `elif()`, `else`"
   ]
  },
  {
   "cell_type": "markdown",
   "metadata": {},
   "source": [
    "if e else: os famosos se e senão\n",
    "\n",
    "`if ():` → se (condição): ação. se condição for verdadeira, execute\n",
    "\n",
    "`else:` → senão: outra ação. se condição for false, execute"
   ]
  },
  {
   "cell_type": "code",
   "execution_count": 6,
   "metadata": {},
   "outputs": [
    {
     "name": "stdout",
     "output_type": "stream",
     "text": [
      "vocês tem idades diferentes\n"
     ]
    }
   ],
   "source": [
    "if (idade == idade_amigo): # se a variável for igual (true) a outra execute:\n",
    "    print(\"vocês tem a mesma idade\") # true\n",
    "else: # senão for igual (false) execute:\n",
    "    print(\"vocês tem idades diferentes\") # false"
   ]
  },
  {
   "cell_type": "markdown",
   "metadata": {},
   "source": [
    "elif: o famoso senão se (else + if) \n",
    "\n",
    "`elif ():` → senão se (condição): ação. se condição anterior for falsa, mas a atual verdadeira, execute"
   ]
  },
  {
   "cell_type": "code",
   "execution_count": 7,
   "metadata": {},
   "outputs": [
    {
     "name": "stdout",
     "output_type": "stream",
     "text": [
      "você é mais novo\n"
     ]
    }
   ],
   "source": [
    "if (idade == idade_amigo): \n",
    "    print(\"vocês tem a mesma idade\") \n",
    "elif (idade > idade_amigo): # se não for igual, mas for maior execute:\n",
    "    print(\"você é mais velho\")\n",
    "else: # senão for igual ou maior (false) execute:\n",
    "    print(\"você é mais novo\") # false"
   ]
  },
  {
   "cell_type": "markdown",
   "metadata": {},
   "source": [
    "o que 18 e 12 vão retornar nesse código?"
   ]
  },
  {
   "cell_type": "code",
   "execution_count": 10,
   "metadata": {},
   "outputs": [
    {
     "name": "stdout",
     "output_type": "stream",
     "text": [
      "Você é um adolescente. 18\n"
     ]
    }
   ],
   "source": [
    "idade_str = input(\"Digite sua idade: \")\n",
    "idade = int(idade_str)\n",
    "\n",
    "if (idade > 18):\n",
    "    print(\"Você é maior de idade.\", idade)\n",
    "else:\n",
    "    if (idade < 12):\n",
    "        print(\"Você é uma criança.\", idade)\n",
    "    elif (idade > 12):\n",
    "        print(\"Você é um adolescente.\", idade)"
   ]
  },
  {
   "cell_type": "markdown",
   "metadata": {},
   "source": [
    "18 → \"Você é um adolescente\", pois 18 não é maior que 18, mas é maior que 12.\n",
    "\n",
    "12 → nada. nenhuma condição será satisfeita, 12 não é igual a 18, nem maior ou menor que 12."
   ]
  },
  {
   "cell_type": "markdown",
   "metadata": {},
   "source": [
    "### lógica\n",
    "\n",
    "comparadores lógicos → `and`, `or`, `not`"
   ]
  },
  {
   "cell_type": "markdown",
   "metadata": {},
   "source": [
    "and: a lógica do essa e outra\n",
    "\n",
    "`condicao and outra_condicao` → se condição e outra_condição são verdadeiras, execute"
   ]
  },
  {
   "cell_type": "code",
   "execution_count": 6,
   "metadata": {},
   "outputs": [
    {
     "name": "stdout",
     "output_type": "stream",
     "text": [
      "ambos falsos\n"
     ]
    }
   ],
   "source": [
    "seu_numero = input(\"digite um número: \")\n",
    "numero_int = int(seu_numero)\n",
    "\n",
    "if (numero_int >= 10 and numero_int < 15):\n",
    "    print(\"ambos verdadeiros\")\n",
    "else:\n",
    "    print(\"ambos falsos\")"
   ]
  },
  {
   "cell_type": "markdown",
   "metadata": {},
   "source": [
    "or: a lógica do esse ou aquele\n",
    "\n",
    "`condicao or outra_condicao` → se condição ou outra_condição for verdadeira, execute"
   ]
  },
  {
   "cell_type": "code",
   "execution_count": 7,
   "metadata": {},
   "outputs": [
    {
     "name": "stdout",
     "output_type": "stream",
     "text": [
      "um verdadeiro\n"
     ]
    }
   ],
   "source": [
    "if (numero_int >= 10 or numero_int < 15):\n",
    "    print(\"um verdadeiro\")\n",
    "else:\n",
    "    print(\"ambos falsos\")"
   ]
  },
  {
   "cell_type": "markdown",
   "metadata": {},
   "source": [
    "not: a lógica reversa\n",
    "\n",
    "`not condicao` → se condição for verdadeira, retorna falso"
   ]
  },
  {
   "cell_type": "code",
   "execution_count": 8,
   "metadata": {},
   "outputs": [
    {
     "name": "stdout",
     "output_type": "stream",
     "text": [
      "falso\n"
     ]
    }
   ],
   "source": [
    "if (not(numero_int >= 10 and numero_int < 15)):\n",
    "    print(\"falso\")\n",
    "else:\n",
    "    print(\"verdadeiro\")"
   ]
  },
  {
   "cell_type": "markdown",
   "metadata": {},
   "source": [
    "### identidade\n",
    "\n",
    "operadores de identidade → `is`, `is not`"
   ]
  },
  {
   "cell_type": "markdown",
   "metadata": {},
   "source": [
    "is: retorna `true` se ambas variáveis sejam o mesmo objeto (com o mesmo local de memória)\n",
    "\n",
    "`var is outra_var` → variável é o mesmo objeto que a outra_variável"
   ]
  },
  {
   "cell_type": "code",
   "execution_count": 29,
   "metadata": {},
   "outputs": [
    {
     "name": "stdout",
     "output_type": "stream",
     "text": [
      "True\n",
      "False\n",
      "True\n"
     ]
    }
   ],
   "source": [
    "x = [\"maça\", \"banana\"]\n",
    "y = [\"maça\", \"banana\"]\n",
    "z = x\n",
    "\n",
    "print(x is z)\n",
    "\n",
    "# retorna true pois z é o mesmo objeto que x\n",
    "\n",
    "print(x is y)\n",
    "\n",
    "# retorna false pois x não é o mesmo objeto que y, mesmo se eles tem o mesmo conteúdo\n",
    "\n",
    "print(x == y)\n",
    "\n",
    "# para demonstrar a diferença entre \"is\" e \"==\": retorna true pois ambos tem o mesmo valor\n"
   ]
  },
  {
   "cell_type": "markdown",
   "metadata": {},
   "source": [
    "is not: retorna `true` se ambas as variáveis não são o mesmo objeto\n",
    "\n",
    "`var is not outra_var` → variável não é o mesmo objeto que a outra_variável"
   ]
  },
  {
   "cell_type": "code",
   "execution_count": 30,
   "metadata": {},
   "outputs": [
    {
     "name": "stdout",
     "output_type": "stream",
     "text": [
      "False\n",
      "True\n",
      "False\n"
     ]
    }
   ],
   "source": [
    "x = [\"maça\", \"banana\"]\n",
    "y = [\"maça\", \"banana\"]\n",
    "z = x\n",
    "\n",
    "print(x is not z)\n",
    "\n",
    "# retorna false pois z é o mesmo objeto que x\n",
    "\n",
    "print(x is not y)\n",
    "\n",
    "# retorna true pois x não é o mesmo objeto que y, mesmo se eles tem o mesmo conteúdo\n",
    "\n",
    "print(x != y)\n",
    "\n",
    "# para demonstrar a diferença entre \"is\" e \"!=\": retorna false pois ambos tem o mesmo valor"
   ]
  },
  {
   "cell_type": "markdown",
   "metadata": {},
   "source": [
    "### pertencimento\n",
    "\n",
    "operadores de pertencimento → `in`, `not in`"
   ]
  },
  {
   "cell_type": "markdown",
   "metadata": {},
   "source": [
    "in: retorna `true` se a sequência com o valor especificado está presente dentro do objeto\n",
    "\n",
    "`valor in var` → valor está dentro da variável"
   ]
  },
  {
   "cell_type": "code",
   "execution_count": 31,
   "metadata": {},
   "outputs": [
    {
     "name": "stdout",
     "output_type": "stream",
     "text": [
      "True\n"
     ]
    }
   ],
   "source": [
    "x = [\"maça\", \"banana\"]\n",
    "\n",
    "print(\"banana\" in x)\n",
    "\n",
    "# retorna true pois a sequência com o valor \"banana\" está na lista\n"
   ]
  },
  {
   "cell_type": "markdown",
   "metadata": {},
   "source": [
    "not in: retorna `true` se a sequência com o valor especificado não está presente dentro do objeto\n",
    "\n",
    "`valor not in var` → valor não está dentro da variável"
   ]
  },
  {
   "cell_type": "code",
   "execution_count": 32,
   "metadata": {},
   "outputs": [
    {
     "name": "stdout",
     "output_type": "stream",
     "text": [
      "True\n"
     ]
    }
   ],
   "source": [
    "x = [\"maça\", \"banana\"]\n",
    "\n",
    "print(\"abacaxi\" not in x)\n",
    "\n",
    "# retorna true pois a sequência com o valor \"abacaxi\" não está na lista"
   ]
  },
  {
   "cell_type": "markdown",
   "metadata": {},
   "source": [
    "## loops\n",
    "\n",
    "laços de repetição → `while`, `for`"
   ]
  },
  {
   "cell_type": "markdown",
   "metadata": {},
   "source": [
    "while: o laço do enquanto\n",
    "\n",
    "`while ():` → enquanto (condição): ação. enquanto condição for verdadeira, execute"
   ]
  },
  {
   "cell_type": "code",
   "execution_count": 16,
   "metadata": {},
   "outputs": [
    {
     "name": "stdout",
     "output_type": "stream",
     "text": [
      "1\n",
      "3\n",
      "7\n",
      "9\n"
     ]
    }
   ],
   "source": [
    "contador = 1\n",
    "while(contador <= 10):\n",
    "    print(contador)\n",
    "    contador = contador + 2\n",
    "    if(contador == 5):\n",
    "        contador = contador + 2"
   ]
  },
  {
   "cell_type": "markdown",
   "metadata": {},
   "source": [
    "for: o laço do para\n",
    "\n",
    "`for nome_var in range():` → para nome_var em intervalo(num_in, num_end, num_inter). para condição em intervalo, execute"
   ]
  },
  {
   "cell_type": "code",
   "execution_count": 1,
   "metadata": {},
   "outputs": [
    {
     "name": "stdout",
     "output_type": "stream",
     "text": [
      "1\n",
      "4\n",
      "7\n",
      "10\n"
     ]
    }
   ],
   "source": [
    "for contador in range(1,11,3): # (start, stop, [step]) step é opcional\n",
    "    print(contador)"
   ]
  },
  {
   "cell_type": "markdown",
   "metadata": {},
   "source": [
    "break: quebra os laços\n",
    "\n",
    "`break` → sai do laço abruptamente"
   ]
  },
  {
   "cell_type": "code",
   "execution_count": 86,
   "metadata": {},
   "outputs": [
    {
     "name": "stdout",
     "output_type": "stream",
     "text": [
      "1\n",
      "2\n",
      "3\n",
      "4\n"
     ]
    }
   ],
   "source": [
    "i = 1\n",
    "while(i <= 7):\n",
    "    print(i)\n",
    "    i = i + 1\n",
    "    if(i == 5):\n",
    "        break"
   ]
  },
  {
   "cell_type": "markdown",
   "metadata": {},
   "source": [
    "continue: desquebra laços\n",
    "\n",
    "`continue` → pula para a próxima iteração "
   ]
  },
  {
   "cell_type": "code",
   "execution_count": 87,
   "metadata": {},
   "outputs": [
    {
     "name": "stdout",
     "output_type": "stream",
     "text": [
      "1\n",
      "2\n",
      "3\n",
      "4\n",
      "6\n",
      "7\n"
     ]
    }
   ],
   "source": [
    "for i in range(1,8):\n",
    "    if(i == 5):\n",
    "        continue\n",
    "    print(i)"
   ]
  },
  {
   "cell_type": "markdown",
   "metadata": {},
   "source": [
    "### build-in functions\n",
    "\n",
    "funções e tipos que já existem dentro da linguagem python e estão sempre disponíveis\n",
    "\n",
    "[documentação funções embutidas](https://docs.python.org/pt-br/3/library/functions.html)\n",
    "\n",
    "tabela com todas as funções ↓"
   ]
  },
  {
   "cell_type": "markdown",
   "metadata": {},
   "source": [
    "| funções                                                                      | desc                                               |\n",
    "| ---------------------------------------------------------------------------- | -------------------------------------------------- |\n",
    "| `abs(x, /)`                                                                  |                                                    |\n",
    "| `aiter(async_iterable, /)`                                                   |                                                    |\n",
    "| `all(iterable, /)`                                                           |                                                    |\n",
    "| `any(iterable, /)`                                                           |                                                    |\n",
    "| `anext(async_iterator, /)`                                                   |                                                    |\n",
    "| `ascii(object, /)`                                                           |                                                    |\n",
    "| ---                                                                          | ---                                                |\n",
    "| `bin(x, /)`                                                                  |                                                    |\n",
    "| `bool(x=False, /)`                                                           |                                                    |\n",
    "| `breakpoint(*args, **kws)`                                                   |                                                    |\n",
    "| `bytearray(source=b'')`                                                      |                                                    |\n",
    "| `bytes(source=b'')`                                                          |                                                    |\n",
    "| ---                                                                          | ---                                                |\n",
    "| `callable(object, /)`                                                        |                                                    |\n",
    "| `chr(i, /)`                                                                  |                                                    |\n",
    "| `@classmethod`                                                               |                                                    |\n",
    "| `compile(source, filename, mode, flags=0, dont_inherit=False, optimize=- 1)` |                                                    |\n",
    "| `complex(real=0, img=0)` `complex(string, /)`                                |                                                    |\n",
    "| ---                                                                          | ---                                                |\n",
    "| `delattr(object, name, /)`                                                   |                                                    |\n",
    "| `dict(**kward)` `dict(mapping, /, **kwarg)` `dict(iterable, /, **kwarg)`     |                                                    |\n",
    "| `dir()`                                                                      |                                                    |\n",
    "| `divmod()`                                                                   |                                                    |\n",
    "| ---                                                                          | ---                                                |\n",
    "| `enumerate()`                                                                |                                                    |\n",
    "| `eval()`                                                                     |                                                    |\n",
    "| `exec()`                                                                     |                                                    |\n",
    "| ---                                                                          | ---                                                |\n",
    "| `filter()`                                                                   |                                                    |\n",
    "| `float()`                                                                    |                                                    |\n",
    "| `format(value, format_spec='', /)`                                           | converte um valor em uma representação \"formatada\" |\n",
    "| `frozenset()`                                                                |                                                    |\n",
    "| ---                                                                          | ---                                                |\n",
    "| `geattr()`                                                                   |                                                    |\n",
    "| `globals()`                                                                  |                                                    |\n",
    "| ---                                                                          | ---                                                |\n",
    "| `hasattr()`                                                                  |                                                    |\n",
    "| `hash()`                                                                     |                                                    |\n",
    "| `help()`                                                                     |                                                    |\n",
    "| `hex()`                                                                      |                                                    |\n",
    "| ---                                                                          | ---                                                |\n",
    "| `id()`                                                                       |                                                    |\n",
    "| `input()`                                                                    |                                                    |\n",
    "| `int()`                                                                      |                                                    |\n",
    "| `isinstance()`                                                               |                                                    |\n",
    "| `issubclass()`                                                               |                                                    |\n",
    "| `iter()`                                                                     |                                                    |\n",
    "| ---                                                                          | ---                                                |\n",
    "| `len()`                                                                      |                                                    |\n",
    "| `list()`                                                                     |                                                    |\n",
    "| `locals()`                                                                   |                                                    |\n",
    "| ---                                                                          | ---                                                |\n",
    "| `map()`                                                                      |                                                    |\n",
    "| `max()`                                                                      |                                                    |\n",
    "| `memoryview()`                                                               |                                                    |\n",
    "| `min()`                                                                      |                                                    |\n",
    "| ---                                                                          | ---                                                |\n",
    "| `next()`                                                                     |                                                    |\n",
    "| ---                                                                          | ---                                                |\n",
    "| `object()`                                                                   |                                                    |\n",
    "| `oct()`                                                                      |                                                    |\n",
    "| `open()`                                                                     |                                                    |\n",
    "| `ord()`                                                                      |                                                    |\n",
    "| ---                                                                          | ---                                                |\n",
    "| `pow()`                                                                      |                                                    |\n",
    "| `print()`                                                                    |                                                    |\n",
    "| `property()`                                                                 |                                                    |\n",
    "| ---                                                                          | ---                                                |\n",
    "| `range()`                                                                    |                                                    |\n",
    "| `repr()`                                                                     |                                                    |\n",
    "| `reversed()`                                                                 |                                                    |\n",
    "| `round()`                                                                    |                                                    |\n",
    "| ---                                                                          | ---                                                |\n",
    "| `set()`                                                                      |                                                    |\n",
    "| `setattr()`                                                                  |                                                    |\n",
    "| `slice()`                                                                    |                                                    |\n",
    "| `sorted()`                                                                   |                                                    |\n",
    "| `staticmethod()`                                                             |                                                    |\n",
    "| `str()`                                                                      |                                                    |\n",
    "| `sum()`                                                                      |                                                    |\n",
    "| `super()`                                                                    |                                                    |\n",
    "| ---                                                                          | ---                                                |\n",
    "| `tuple()`                                                                    |                                                    |\n",
    "| `type()`                                                                     |                                                    |\n",
    "| ---                                                                          | ---                                                |\n",
    "| `vars()`                                                                     |                                                    |\n",
    "| ---                                                                          | ---                                                |\n",
    "| `zip()`                                                                      |                                                    |\n",
    "| ---                                                                          | ---                                                |\n",
    "| `__import__()`                                                               |                                                    |\n"
   ]
  },
  {
   "cell_type": "markdown",
   "metadata": {},
   "source": [
    "## módulos\n",
    "\n",
    "são as bibliotecas de código que podem ser importadas para o python para o uso de funções que não estão embutidas nele"
   ]
  },
  {
   "cell_type": "markdown",
   "metadata": {},
   "source": [
    "`import modulo`, `import modulo as abrev`, `from modulo import funcao`\n",
    "\n",
    "alguns podem ser importados diretamente, outros precisam primeiro ser instalados com um \"npm instal\". os módulos pode ser importados recebendo um nome/abreviação ou até mesmo pode-se importar apenas uma função específica do mesmo"
   ]
  },
  {
   "cell_type": "code",
   "execution_count": 17,
   "metadata": {},
   "outputs": [],
   "source": [
    "import time\n",
    "\n",
    "time.sleep(3)"
   ]
  },
  {
   "cell_type": "code",
   "execution_count": 22,
   "metadata": {},
   "outputs": [
    {
     "name": "stdout",
     "output_type": "stream",
     "text": [
      "71.65824181315169\n"
     ]
    }
   ],
   "source": [
    "import random as rd \n",
    "\n",
    "aleatorio = rd.random() * 100 # gera um número aleatório de 0 - 1 (* 100)\n",
    "print(aleatorio)"
   ]
  },
  {
   "cell_type": "code",
   "execution_count": 18,
   "metadata": {},
   "outputs": [],
   "source": [
    "from selenium import webdriver\n",
    "\n",
    "navegador = webdriver.Firefox()"
   ]
  },
  {
   "cell_type": "markdown",
   "metadata": {},
   "source": [
    "## importando arquivos\n",
    "\n",
    "chamando arquivos python dentro de outros"
   ]
  },
  {
   "cell_type": "markdown",
   "metadata": {},
   "source": [
    "para importar um arquivo python basta chama-lo do mesmo modo como uma biblioteca, mas deve-se levar em consideração que este arquivo será executado logo ao ser chamado no `import`. para que ele só execute em um momento específico, deve-se transforma-lo em função"
   ]
  },
  {
   "cell_type": "code",
   "execution_count": 4,
   "metadata": {},
   "outputs": [],
   "source": [
    "import forca"
   ]
  },
  {
   "cell_type": "markdown",
   "metadata": {},
   "source": [
    "### criando e chamando funções"
   ]
  },
  {
   "cell_type": "markdown",
   "metadata": {},
   "source": [
    "para declarar uma função no python usa-se a palavra chave `def`, seguido do nome da função, parenteses e os dois pontos\n",
    "\n",
    "`def nome_da_funcao():` → tudo o que estiver indentado após ela estará dentro da função"
   ]
  },
  {
   "cell_type": "markdown",
   "metadata": {},
   "source": [
    "com a função criada e os arquivos importados, basta seguir esta sintaxe para chamar as funções dentro deste novo arquivo: `nome_arquivo.funcao()`\n",
    "\n",
    "se for usada no mesmo arquivo onde foi declarada, não é necessário chamar o arquivo: `nome_funcao()`"
   ]
  },
  {
   "cell_type": "code",
   "execution_count": 5,
   "metadata": {},
   "outputs": [
    {
     "name": "stdout",
     "output_type": "stream",
     "text": [
      "****************************\n",
      "Escolha o seu jogo!\n",
      "****************************\n",
      "(1) Forca (2) Adivinhação\n",
      "Jogando forca\n",
      "****************************\n",
      "BEM VINDO AO JOGO DE FORCA\n",
      "****************************\n",
      "Fim de jogo\n"
     ]
    }
   ],
   "source": [
    "import forca # nome do arquivo forca.py\n",
    "import adivinhacao # nome do arquivo adivinhacao.py\n",
    "\n",
    "print(\"****************************\")\n",
    "print(\"Escolha o seu jogo!\")\n",
    "print(\"****************************\")\n",
    "\n",
    "print(\"(1) Forca (2) Adivinhação\")\n",
    "\n",
    "jogos = int(input(\"Qual jogo?\"))\n",
    "\n",
    "if (jogos == 1):\n",
    "    print(\"Jogando forca\")\n",
    "    forca.jogar() # chama a função dentro do arquivo\n",
    "elif(jogos == 2):\n",
    "    print(\"Jogando adivinhação\")\n",
    "    adivinhacao.jogar() # chama a função dentro do arquivo"
   ]
  },
  {
   "cell_type": "markdown",
   "metadata": {},
   "source": [
    "### parâmetros e retorno\n",
    "\n",
    "uma função também pode receber parâmetros e retornar algum valor"
   ]
  },
  {
   "cell_type": "code",
   "execution_count": 7,
   "metadata": {},
   "outputs": [
    {
     "name": "stdout",
     "output_type": "stream",
     "text": [
      "7\n"
     ]
    }
   ],
   "source": [
    "def soma(a, b): # declara a função que recebe 2 parâmetros (a e b) e retorna a soma de ambos\n",
    "    return a + b\n",
    "\n",
    "s = soma(3, 4)\n",
    "print(s)"
   ]
  },
  {
   "cell_type": "markdown",
   "metadata": {},
   "source": [
    "### executando um arquivo importado sem causar conflitos\n",
    "\n",
    "agora que o código está dentro de uma função, não executara automaticamente como antes, ou seja, não vai retornar nada até que a dentro dele função seja chamada\n",
    "\n",
    "uma forma de contornar isso é usando uma condicional com os valores que o próprio computador define para estas situações"
   ]
  },
  {
   "cell_type": "markdown",
   "metadata": {},
   "source": [
    "quando um arquivo python é rodado diretamente, ele internamente cria uma variável e a preenche. se ela for preenchida, significa que o arquivo foi executado diretamente, mas se a variável não for preenchida, então significa que o arquivo só foi importado\n",
    "\n",
    "esta variável é a `__name__`, e ela é preenchida com o valor `__main__` quando o arquivo é executado diretamente"
   ]
  },
  {
   "cell_type": "markdown",
   "metadata": {},
   "source": [
    "```\n",
    "if (__name__ == \"__main__\"):\n",
    "    jogar()\n",
    "```"
   ]
  }
 ],
 "metadata": {
  "kernelspec": {
   "display_name": "Python 3.10.5 64-bit",
   "language": "python",
   "name": "python3"
  },
  "language_info": {
   "codemirror_mode": {
    "name": "ipython",
    "version": 3
   },
   "file_extension": ".py",
   "mimetype": "text/x-python",
   "name": "python",
   "nbconvert_exporter": "python",
   "pygments_lexer": "ipython3",
   "version": "3.10.5"
  },
  "orig_nbformat": 4,
  "vscode": {
   "interpreter": {
    "hash": "02d28997e0bbd3d3d330398e28dec1d6f415c5a3ce051c661c4f2310b8a7e528"
   }
  }
 },
 "nbformat": 4,
 "nbformat_minor": 2
}
